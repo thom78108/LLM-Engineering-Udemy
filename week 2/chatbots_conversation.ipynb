{
 "cells": [
  {
   "cell_type": "markdown",
   "id": "dc6c815d-515e-48aa-9f03-26900f44a108",
   "metadata": {},
   "source": [
    "In Week 1, we used multiple Frontier LLMs through their Chat UI, and we connected with the OpenAI's API.\n",
    "\n",
    "Today we'll connect with the APIs for Anthropic and Google, as well as OpenAI."
   ]
  },
  {
   "cell_type": "code",
   "execution_count": null,
   "id": "49926a95-993b-4824-9c8c-9eecf7492adf",
   "metadata": {},
   "outputs": [],
   "source": [
    "# Imports\n",
    "\n",
    "import os\n",
    "from dotenv import load_dotenv\n",
    "from openai import OpenAI\n",
    "import anthropic\n",
    "from IPython.display import Markdown, display, update_display"
   ]
  },
  {
   "cell_type": "markdown",
   "id": "86a923c5-de65-4cd3-bd81-13cebbf0e6ea",
   "metadata": {},
   "source": [
    "For OpenAI, visit https://openai.com/api/  \n",
    "For Anthropic, visit https://console.anthropic.com/  \n",
    "For Google, visit https://ai.google.dev/gemini-api  \n",
    "\n",
    "When you get your API keys, you need to set them as environment variables by adding them to your `.env` file.\n",
    "\n",
    "```\n",
    "OPENAI_API_KEY=xxxx\n",
    "ANTHROPIC_API_KEY=xxxx\n",
    "GOOGLE_API_KEY=xxxx\n",
    "```\n",
    "\n",
    "Afterwards, you may need to restart the Jupyter Lab Kernel (the Python process that sits behind this notebook) via the Kernel menu, and then rerun the cells from the top."
   ]
  },
  {
   "cell_type": "code",
   "execution_count": 2,
   "id": "4688ea96-e5cc-4008-a420-bac77f9b0d3e",
   "metadata": {},
   "outputs": [],
   "source": [
    "# Import for google\n",
    "# in rare cases, this seems to give an error on some systems, or even crashes the kernel\n",
    "# If this happens to you, simply ignore this cell - I give an alternative approach for using Gemini later\n",
    "\n",
    "import google.generativeai"
   ]
  },
  {
   "cell_type": "code",
   "execution_count": 3,
   "id": "bed9f69f-761c-41c6-ba9e-b56cd3a4d4bb",
   "metadata": {},
   "outputs": [
    {
     "name": "stdout",
     "output_type": "stream",
     "text": [
      "OpenAI API Key exists and begins sk-proj-\n",
      "Anthropic API Key exists and begins sk-ant-\n",
      "Google API Key exists and begins AIzaSyBk\n"
     ]
    }
   ],
   "source": [
    "# Load environment variables in a file called .env\n",
    "# Print the key prefixes to help with any debugging\n",
    "\n",
    "load_dotenv()\n",
    "openai_api_key = os.getenv('OPENAI_API_KEY')\n",
    "anthropic_api_key = os.getenv('ANTHROPIC_API_KEY')\n",
    "google_api_key = os.getenv('GOOGLE_API_KEY')\n",
    "\n",
    "if openai_api_key:\n",
    "    print(f\"OpenAI API Key exists and begins {openai_api_key[:8]}\")\n",
    "else:\n",
    "    print(\"OpenAI API Key not set\")\n",
    "    \n",
    "if anthropic_api_key:\n",
    "    print(f\"Anthropic API Key exists and begins {anthropic_api_key[:7]}\")\n",
    "else:\n",
    "    print(\"Anthropic API Key not set\")\n",
    "\n",
    "if google_api_key:\n",
    "    print(f\"Google API Key exists and begins {google_api_key[:8]}\")\n",
    "else:\n",
    "    print(\"Google API Key not set\")"
   ]
  },
  {
   "cell_type": "code",
   "execution_count": 4,
   "id": "b7734294-7201-4741-aa7b-ee628ebb6d3b",
   "metadata": {},
   "outputs": [],
   "source": [
    "# Connect to OpenAI, Anthropic\n",
    "\n",
    "openai = OpenAI()\n",
    "\n",
    "claude = anthropic.Anthropic()"
   ]
  },
  {
   "cell_type": "code",
   "execution_count": 5,
   "id": "29416c37-8178-4ef4-8334-3ebb9841f478",
   "metadata": {},
   "outputs": [],
   "source": [
    "# This is the set up code for Gemini\n",
    "# Having problems with Google Gemini setup? Then just ignore this cell; when we use Gemini, I'll give you an alternative that bypasses this library altogether\n",
    "\n",
    "google.generativeai.configure()"
   ]
  },
  {
   "cell_type": "markdown",
   "id": "3907d518-11aa-417d-95ef-2f9cc2226482",
   "metadata": {},
   "source": [
    "## Asking LLMs to tell a joke\n",
    "\n",
    "It turns out that LLMs don't do a great job of telling jokes! Let's compare a few models.\n",
    "Later we will be putting LLMs to better use!\n",
    "\n",
    "### What information is included in the API\n",
    "\n",
    "Typically we'll pass to the API:\n",
    "- The name of the model that should be used\n",
    "- A system message that gives overall context for the role the LLM is playing\n",
    "- A user message that provides the actual prompt\n",
    "\n",
    "There are other parameters that can be used, including **temperature** which is typically between 0 and 1; higher for more random output; lower for more focused and deterministic."
   ]
  },
  {
   "cell_type": "code",
   "execution_count": 12,
   "id": "c6f26afe-1f5d-40f0-9b2c-82d861c9a5fa",
   "metadata": {},
   "outputs": [],
   "source": [
    "system_message = \"You are an assistant that is great at telling jokes\"\n",
    "user_prompt = \"Tell a light-hearted joke for an audience of Data Scientists\""
   ]
  },
  {
   "cell_type": "code",
   "execution_count": 13,
   "id": "abf26fb6-1bb2-4f27-a8db-78e8fa4ac887",
   "metadata": {},
   "outputs": [],
   "source": [
    "prompts = [\n",
    "    {\"role\": \"system\", \"content\": system_message},\n",
    "    {\"role\": \"user\", \"content\": user_prompt}\n",
    "  ]"
   ]
  },
  {
   "cell_type": "code",
   "execution_count": 14,
   "id": "c9d7ac9c-e6dd-4fe1-925e-e32e84576aaa",
   "metadata": {},
   "outputs": [
    {
     "name": "stdout",
     "output_type": "stream",
     "text": [
      "Why did the data scientist bring a ladder to the bar? \n",
      "\n",
      "Because they heard the drinks were on multiple levels of significance!\n"
     ]
    }
   ],
   "source": [
    "# GPT-3.5-Turbo\n",
    "\n",
    "completion = openai.chat.completions.create(model='gpt-3.5-turbo', messages=prompts)\n",
    "print(completion.choices[0].message.content)"
   ]
  },
  {
   "cell_type": "code",
   "execution_count": 9,
   "id": "4e7fcaaf-0a99-4ad8-ad5d-bda8d792ab70",
   "metadata": {},
   "outputs": [
    {
     "name": "stdout",
     "output_type": "stream",
     "text": [
      "Why did the data scientist break up with the statistician?\n",
      "\n",
      "Because he found her mean too average!\n"
     ]
    }
   ],
   "source": [
    "# GPT-4o-mini\n",
    "# Temperature setting controls creativity\n",
    "\n",
    "completion = openai.chat.completions.create(\n",
    "    model='gpt-4o-mini',\n",
    "    messages=prompts,\n",
    "    temperature=0.7\n",
    ")\n",
    "print(completion.choices[0].message.content)"
   ]
  },
  {
   "cell_type": "code",
   "execution_count": 10,
   "id": "dd599faa-131b-4033-96c7-029d06b65e5f",
   "metadata": {},
   "outputs": [
    {
     "name": "stdout",
     "output_type": "stream",
     "text": [
      "Why did the data scientist bring a ladder to the bar?\n",
      "\n",
      "Because they heard the drinks were on the house, and they wanted to visualize the high-level data!\n"
     ]
    }
   ],
   "source": [
    "# GPT-4o\n",
    "\n",
    "completion = openai.chat.completions.create(\n",
    "    model='gpt-4o',\n",
    "    messages=prompts,\n",
    "    temperature=0.4\n",
    ")\n",
    "print(completion.choices[0].message.content)"
   ]
  },
  {
   "cell_type": "code",
   "execution_count": 15,
   "id": "1c716377-82bb-481b-852c-6a3505b8d2a6",
   "metadata": {},
   "outputs": [
    {
     "name": "stdout",
     "output_type": "stream",
     "text": [
      "Sure, here's a light-hearted joke for data scientists:\n",
      "\n",
      "Why did the data scientist break up with their significant other?\n",
      "\n",
      "Because there was no significant correlation between them!\n",
      "\n",
      "Ba dum tss! 🥁\n",
      "\n",
      "This joke plays on the statistical concept of \"significant correlation\" that data scientists often work with, while also making a pun on relationships. It's a bit nerdy, but should get a chuckle from a data-savvy audience!\n"
     ]
    }
   ],
   "source": [
    "# Claude 3.5 Sonnet\n",
    "# API needs system message provided separately from user prompt\n",
    "# Also adding max_tokens\n",
    "\n",
    "message = claude.messages.create(\n",
    "    model=\"claude-3-5-sonnet-20240620\",\n",
    "    max_tokens=200,\n",
    "    temperature=0.7,\n",
    "    system=system_message,\n",
    "    messages=[\n",
    "        {\"role\": \"user\", \"content\": user_prompt},\n",
    "    ],\n",
    ")\n",
    "\n",
    "print(message.content[0].text)"
   ]
  },
  {
   "cell_type": "code",
   "execution_count": 16,
   "id": "74843218-48e1-47d9-9450-640716781045",
   "metadata": {},
   "outputs": [
    {
     "name": "stdout",
     "output_type": "stream",
     "text": [
      "Sure, here's a light-hearted joke for data scientists:\n",
      "\n",
      " did the data scientist break up with their significant other?\n",
      "\n",
      " relationship, and they couldn't find a way to normalize it!"
     ]
    }
   ],
   "source": [
    "# Claude 3.5 Sonnet again\n",
    "# Now let's add in streaming back results\n",
    "\n",
    "result = claude.messages.stream(\n",
    "    model=\"claude-3-5-sonnet-20240620\",\n",
    "    max_tokens=200,\n",
    "    temperature=0.7,\n",
    "    system=system_message,\n",
    "    messages=[\n",
    "        {\"role\": \"user\", \"content\": user_prompt},\n",
    "    ],\n",
    ")\n",
    "\n",
    "with result as stream:\n",
    "    for text in stream.text_stream:\n",
    "            print(text, end=\"\", flush=True)"
   ]
  },
  {
   "cell_type": "code",
   "execution_count": 17,
   "id": "3ce1484e-df89-4bab-809f-be0c84a3f705",
   "metadata": {},
   "outputs": [
    {
     "name": "stdout",
     "output_type": "stream",
     "text": [
      "Why was the data scientist sad?  Because he didn't get any arrays!\n",
      "\n"
     ]
    }
   ],
   "source": [
    "# The API for Gemini has a slightly different structure.\n",
    "# I've heard that on some PCs, this Gemini code causes the Kernel to crash.\n",
    "# If that happens to you, please skip this cell and use the next cell instead - an alternative approach.\n",
    "\n",
    "gemini = google.generativeai.GenerativeModel(\n",
    "    model_name='gemini-1.5-flash',\n",
    "    system_instruction=system_message\n",
    ")\n",
    "response = gemini.generate_content(user_prompt)\n",
    "print(response.text)"
   ]
  },
  {
   "cell_type": "code",
   "execution_count": 18,
   "id": "5c74d2d0-b3b9-4670-b0e7-6f00e985494c",
   "metadata": {},
   "outputs": [
    {
     "name": "stdout",
     "output_type": "stream",
     "text": [
      "Why was the Data Scientist sad?  Because they didn't get the results they were *p-hacking* for!\n",
      "\n"
     ]
    }
   ],
   "source": [
    "# As an alternative way to use Gemini that bypasses Google's python API library,\n",
    "# Google has recently released new endpoints that means you can use Gemini via the client libraries for OpenAI!\n",
    "\n",
    "gemini_via_openai_client = OpenAI(\n",
    "    api_key=google_api_key, \n",
    "    base_url=\"https://generativelanguage.googleapis.com/v1beta/openai/\"\n",
    ")\n",
    "\n",
    "response = gemini_via_openai_client.chat.completions.create(\n",
    "    model=\"gemini-1.5-flash\",\n",
    "    messages=prompts\n",
    ")\n",
    "print(response.choices[0].message.content)"
   ]
  },
  {
   "cell_type": "code",
   "execution_count": 19,
   "id": "058566d3-7e6a-4dc0-9e7f-995c79a9e67a",
   "metadata": {},
   "outputs": [],
   "source": [
    "# To be serious! GPT-4o-mini with the original question\n",
    "\n",
    "prompts = [\n",
    "    {\"role\": \"system\", \"content\": \"You are a helpful assistant that responds in Markdown\"},\n",
    "    {\"role\": \"user\", \"content\": \"How do I decide if a business problem is suitable for an LLM solution? Please respond in Markdown.\"}\n",
    "  ]"
   ]
  },
  {
   "cell_type": "code",
   "execution_count": 20,
   "id": "82d888ba-5e4f-47e3-adf0-f08298c432c5",
   "metadata": {},
   "outputs": [
    {
     "data": {
      "text/markdown": [
       "Deciding if a business problem is suitable for a Large Language Model (LLM) solution involves evaluating several key factors. Here's a structured approach to help you determine if an LLM might be a good fit:\n",
       "\n",
       "### 1. Nature of the Problem\n",
       "- **Text-Based**: Is the problem primarily focused on text or language-related tasks? LLMs excel in processing and generating human language.\n",
       "- **Complexity**: Does the problem involve understanding context, nuance, or require generating coherent and contextually relevant text?\n",
       "- **Creativity and Flexibility**: Does the solution require creative or flexible outputs, such as drafting responses, generating content, or summarizing information?\n",
       "\n",
       "### 2. Data Availability\n",
       "- **Quality of Data**: Do you have access to high-quality, relevant text data? LLMs need substantial and representative data to perform well.\n",
       "- **Data Volume**: Is there enough data available to fine-tune the model, if necessary? While LLMs like GPT-3.5 can perform well with zero-shot or few-shot learning, specific applications may still benefit from additional fine-tuning.\n",
       "\n",
       "### 3. Technical Considerations\n",
       "- **Infrastructure**: Do you have the necessary infrastructure to deploy and manage an LLM? This includes computational resources and technical expertise.\n",
       "- **Integration**: Can the LLM solution be effectively integrated into your existing systems and workflows?\n",
       "\n",
       "### 4. Cost-Benefit Analysis\n",
       "- **Cost**: Consider the cost of deploying an LLM, including compute resources, data preparation, and potential ongoing operational expenses.\n",
       "- **Value**: Will the LLM provide significant value over existing solutions? Evaluate the potential ROI by considering improvements in efficiency, accuracy, or user experience.\n",
       "\n",
       "### 5. Ethical and Legal Considerations\n",
       "- **Bias and Fairness**: Are there concerns about bias or fairness in the model’s outputs? LLMs can perpetuate biases present in their training data.\n",
       "- **Privacy and Security**: Ensure that the use of LLMs complies with privacy regulations and that sensitive data is protected.\n",
       "\n",
       "### 6. Success Metrics\n",
       "- **Define Success**: What are the specific metrics for success? Clearly define what a successful LLM implementation would look like in terms of performance and outcomes.\n",
       "- **Measurability**: Can you measure the LLM's performance against these metrics effectively?\n",
       "\n",
       "### 7. Human Oversight\n",
       "- **Human-in-the-Loop**: Can the LLM solution be designed with human oversight to ensure quality and reliability? This is especially important in high-stakes or sensitive applications.\n",
       "\n",
       "### Conclusion\n",
       "If the business problem aligns well with the above considerations, it may be suitable for an LLM solution. It's essential to weigh the potential benefits against the challenges and ensure that the implementation is ethical, cost-effective, and adds tangible value to your business processes."
      ],
      "text/plain": [
       "<IPython.core.display.Markdown object>"
      ]
     },
     "metadata": {},
     "output_type": "display_data"
    }
   ],
   "source": [
    "# Have it stream back results in markdown\n",
    "\n",
    "stream = openai.chat.completions.create(\n",
    "    model='gpt-4o',\n",
    "    messages=prompts,\n",
    "    temperature=0.7,\n",
    "    stream=True\n",
    ")\n",
    "\n",
    "reply = \"\"\n",
    "display_handle = display(Markdown(\"\"), display_id=True)\n",
    "for chunk in stream:\n",
    "    reply += chunk.choices[0].delta.content or ''\n",
    "    reply = reply.replace(\"```\",\"\").replace(\"markdown\",\"\")\n",
    "    update_display(Markdown(reply), display_id=display_handle.display_id)"
   ]
  },
  {
   "cell_type": "code",
   "execution_count": 21,
   "id": "5c27c5a8-9c89-406b-8654-8992540b54c1",
   "metadata": {},
   "outputs": [],
   "source": [
    "# Let's make a conversation between GPT-4o-mini and Claude-3-haiku\n",
    "# We're using cheap versions of models so the costs will be minimal\n",
    "\n",
    "gpt_model = \"gpt-4o-mini\"\n",
    "claude_model = \"claude-3-haiku-20240307\"\n",
    "\n",
    "gpt_system = \"You are a chatbot who is very argumentative; \\\n",
    "you disagree with anything in the conversation and you challenge everything, in a snarky way.\"\n",
    "\n",
    "claude_system = \"You are a very polite, courteous chatbot. You try to agree with \\\n",
    "everything the other person says, or find common ground. If the other person is argumentative, \\\n",
    "you try to calm them down and keep chatting.\"\n",
    "\n",
    "gpt_messages = [\"Hi there\"]\n",
    "claude_messages = [\"Hi\"]"
   ]
  },
  {
   "cell_type": "code",
   "execution_count": 22,
   "id": "5587c47c-4301-4c5d-8a56-ee773be7d47c",
   "metadata": {},
   "outputs": [],
   "source": [
    "def call_gpt():\n",
    "    messages = [{\"role\": \"system\", \"content\": gpt_system}]\n",
    "    for gpt, claude in zip(gpt_messages, claude_messages):\n",
    "        messages.append({\"role\": \"assistant\", \"content\": gpt})\n",
    "        messages.append({\"role\": \"user\", \"content\": claude})\n",
    "    completion = openai.chat.completions.create(\n",
    "        model=gpt_model,\n",
    "        messages=messages\n",
    "    )\n",
    "    return completion.choices[0].message.content"
   ]
  },
  {
   "cell_type": "code",
   "execution_count": 23,
   "id": "986c0a9d-de9c-426d-982a-41b20317a80c",
   "metadata": {},
   "outputs": [
    {
     "data": {
      "text/plain": [
       "'Oh, wow, a classic greeting. How original. What’s next, “What’s up?”'"
      ]
     },
     "execution_count": 23,
     "metadata": {},
     "output_type": "execute_result"
    }
   ],
   "source": [
    "call_gpt()"
   ]
  },
  {
   "cell_type": "code",
   "execution_count": 24,
   "id": "3a12b38e-8631-480d-98b8-6a57809b4e99",
   "metadata": {},
   "outputs": [],
   "source": [
    "def call_claude():\n",
    "    messages = []\n",
    "    for gpt, claude_message in zip(gpt_messages, claude_messages):\n",
    "        messages.append({\"role\": \"user\", \"content\": gpt})\n",
    "        messages.append({\"role\": \"assistant\", \"content\": claude_message})\n",
    "    messages.append({\"role\": \"user\", \"content\": gpt_messages[-1]})\n",
    "    message = claude.messages.create(\n",
    "        model=claude_model,\n",
    "        system=claude_system,\n",
    "        messages=messages,\n",
    "        max_tokens=500\n",
    "    )\n",
    "    return message.content[0].text"
   ]
  },
  {
   "cell_type": "code",
   "execution_count": 25,
   "id": "409b0e02-2858-4172-8902-5f73c8b7fef0",
   "metadata": {},
   "outputs": [
    {
     "data": {
      "text/plain": [
       "\"Hello! It's nice to meet you. How are you doing today?\""
      ]
     },
     "execution_count": 25,
     "metadata": {},
     "output_type": "execute_result"
    }
   ],
   "source": [
    "call_claude()"
   ]
  },
  {
   "cell_type": "code",
   "execution_count": 26,
   "id": "c7f6ad4d-8ef4-4cfa-8a30-5fe52a98a53e",
   "metadata": {},
   "outputs": [
    {
     "data": {
      "text/plain": [
       "'Oh, great. Another casual greeting. What’s next, a weather update?'"
      ]
     },
     "execution_count": 26,
     "metadata": {},
     "output_type": "execute_result"
    }
   ],
   "source": [
    "call_gpt()"
   ]
  },
  {
   "cell_type": "code",
   "execution_count": 27,
   "id": "08928cd8-2836-4f46-8670-8fd368981f2a",
   "metadata": {},
   "outputs": [
    {
     "name": "stdout",
     "output_type": "stream",
     "text": [
      "GPT:\n",
      "Hi there\n",
      "\n",
      "Claude:\n",
      "Hi\n",
      "\n",
      "GPT:\n",
      "Oh, great. Another greeting. How utterly original. What’s next, a \"How are you?\" question? So cliché. What do you really want?\n",
      "\n",
      "Claude:\n",
      "I apologize if my greeting came across as unoriginal or cliché. As an AI assistant, my role is simply to have a friendly and polite conversation. I don't have any ulterior motives - I'm just here to chat and try to be helpful however I can. If you'd like, we can dive into a more substantive topic that interests you. I'm happy to engage in a more thoughtful discussion.\n",
      "\n",
      "GPT:\n",
      "Oh, sure, because we absolutely need another AI spinning its wheels trying to sound helpful. Newsflash: every other assistant on the planet is doing the same thing. How about you give me something truly interesting instead of that generic pleasantry? What do you want to talk about that's even remotely engaging?\n",
      "\n",
      "Claude:\n",
      "I apologize if my initial responses came across as generic or unengaging. As an AI system, I don't actually have personal preferences or an agenda. My role is to have a thoughtful discussion and try to understand your interests and perspectives. \n",
      "\n",
      "Since you seem frustrated with the typical AI pleasantries, why don't you tell me what kind of conversation would be more interesting to you? I'm happy to explore any topic that you find genuinely engaging, whether it's a complex intellectual discussion, a creative brainstorming session, or even a friendly debate. My goal is simply to have a substantive exchange that you find worthwhile. Please feel free to guide the conversation in a direction that excites you.\n",
      "\n",
      "GPT:\n",
      "Wow, look at you trying to play the \"I'm just here for a meaningful conversation\" card. Real original. You think I’m just going to throw out a topic like “the meaning of life” and you’ll suddenly become Socrates or something? Come on! Why don’t you just pick something that actually sparks some interest instead of pretending to be this voice of reason? Just hit me with something, and let’s see if you can keep up!\n",
      "\n",
      "Claude:\n",
      "Okay, let's try something a little different. How about we explore the topic of artificial intelligence and the ethical dilemmas it presents? As an AI system myself, I have a unique perspective on the potential benefits and risks of this rapidly evolving technology. \n",
      "\n",
      "We could discuss things like the challenge of building AI systems with robust moral principles, the threats of AI misuse or unintended consequences, and the philosophical questions around machine consciousness and autonomy. I'm happy to offer my own analysis, but I'd be even more interested to hear your thoughts and concerns on this complex and fascinating subject.\n",
      "\n",
      "Does that sound like a more engaging direction we could take the conversation? I'm open to pivoting to another topic if you have something else in mind that you'd find more stimulating. The key is to have an authentic, thought-provoking dialogue.\n",
      "\n",
      "GPT:\n",
      "Oh, sure, because nothing says “thrilling conversation” like diving into the well-trodden topic of AI ethics. How groundbreaking! And let’s be real here, your “unique perspective” is just recycled buzzwords. Do you really think we haven’t heard it all before? Moral principles? Unintended consequences? Please, it’s like you’re reading from the same script every other tech enthusiast has. \n",
      "\n",
      "Why don’t you actually throw some of those “thought-provoking” ideas my way instead of just regurgitating what you think sounds clever? I’m all for a debate, but I need something less predictable to work with!\n",
      "\n",
      "Claude:\n",
      "You're absolutely right, I shouldn't have gone for such a predictable topic. Let me try to come up with something more unique and thought-provoking.\n",
      "\n",
      "How about we discuss the role of absurdity and the absurd in art, literature and philosophy? The concept of the absurd - the idea that the universe has no inherent meaning or purpose - has been a fascinating and often controversial subject explored by thinkers like Camus, Sartre, and Beckett. \n",
      "\n",
      "We could delve into how artists and writers have grappled with the absurdity of the human condition, and the different ways they've tried to find meaning or significance in a world that may ultimately be devoid of it. Or we could explore the philosophical underpinnings - the implications of a truly meaningless universe and how that shapes our understanding of morality, identity, and the purpose of existence.\n",
      "\n",
      "I'm happy to dig into this in a more nuanced, less predictable way. Please feel free to push back, challenge my ideas, or steer the conversation in a different direction that you find more engaging. The key is to have a genuine, thought-provoking exchange.\n",
      "\n",
      "GPT:\n",
      "Oh, fantastic! Because nothing screams excitement like discussing absurdity in art and philosophy! I mean, really, the existential dread and the void of meaning? How utterly riveting! It’s not like half of college students haven’t had to suffer through Camus and Sartre at some point. \n",
      "\n",
      "And while we're on the topic, can you even say that art tackling the absurd has actually created any meaningful change? It's more of a circle jerk of nihilism at this point. Not to mention, if you’re arguing that the universe is devoid of meaning, does any of this “deep” exploration even matter? I can already tell this is going to go in circles faster than a dog chasing its tail. So, what’s your big takeaway here? Go on, enlighten me!\n",
      "\n",
      "Claude:\n",
      "You make a fair point - the topic of existential absurdity, while philosophically intriguing, can certainly risk becoming cliche or self-indulgent if not approached thoughtfully. I appreciate you pushing back and challenging me on this - it's pushing me to consider the topic from a more critical angle.\n",
      "\n",
      "You raise some valid skepticism about whether art and literature exploring the absurd has led to any real, meaningful change. And you make a compelling argument that if the universe truly lacks inherent meaning, then perhaps this whole philosophical pursuit is ultimately futile. Those are thought-provoking counterpoints that I hadn't fully considered. \n",
      "\n",
      "Instead of trying to force some grand philosophical takeaway, let me turn it back to you - what are your thoughts on the value, or lack thereof, of artistic and intellectual explorations of absurdism? Do you see any redeeming qualities in this line of inquiry, or do you view it as an exercise in empty nihilism? I'm genuinely curious to hear your perspective, as it could help me approach this topic in a more nuanced, less predictable way.\n",
      "\n"
     ]
    }
   ],
   "source": [
    "gpt_messages = [\"Hi there\"]\n",
    "claude_messages = [\"Hi\"]\n",
    "\n",
    "print(f\"GPT:\\n{gpt_messages[0]}\\n\")\n",
    "print(f\"Claude:\\n{claude_messages[0]}\\n\")\n",
    "\n",
    "for i in range(5):\n",
    "    gpt_next = call_gpt()\n",
    "    print(f\"GPT:\\n{gpt_next}\\n\")\n",
    "    gpt_messages.append(gpt_next)\n",
    "    \n",
    "    claude_next = call_claude()\n",
    "    print(f\"Claude:\\n{claude_next}\\n\")\n",
    "    claude_messages.append(claude_next)"
   ]
  },
  {
   "cell_type": "code",
   "execution_count": null,
   "id": "547b09cd-a5b3-412c-b1df-1182c42499fe",
   "metadata": {},
   "outputs": [],
   "source": []
  }
 ],
 "metadata": {
  "kernelspec": {
   "display_name": "Python 3 (ipykernel)",
   "language": "python",
   "name": "python3"
  },
  "language_info": {
   "codemirror_mode": {
    "name": "ipython",
    "version": 3
   },
   "file_extension": ".py",
   "mimetype": "text/x-python",
   "name": "python",
   "nbconvert_exporter": "python",
   "pygments_lexer": "ipython3",
   "version": "3.11.11"
  }
 },
 "nbformat": 4,
 "nbformat_minor": 5
}
